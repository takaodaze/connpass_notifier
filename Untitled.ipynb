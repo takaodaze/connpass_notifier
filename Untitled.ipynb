{
 "cells": [
  {
   "cell_type": "code",
   "execution_count": 61,
   "metadata": {},
   "outputs": [],
   "source": [
    "from bs4 import BeautifulSoup\n",
    "import requests\n",
    "import time"
   ]
  },
  {
   "cell_type": "code",
   "execution_count": 62,
   "metadata": {},
   "outputs": [],
   "source": [
    "def get_connpass(prefectures):\n",
    "    url = f'https://connpass.com/search/?q=&start_from=2020%2F01%2F01&start_to=2020%2F07%2F31&prefectures={prefectures}&selectItem={prefectures}'\n",
    "    r = requests.get(url)\n",
    "    soup = BeautifulSoup(r.content, \"html.parser\")\n",
    "    text = soup.select('a.url.summary')\n",
    "\n",
    "get_connpass('fukuoka')"
   ]
  },
  {
   "cell_type": "code",
   "execution_count": 67,
   "metadata": {},
   "outputs": [
    {
     "name": "stdout",
     "output_type": "stream",
     "text": [
      "https://connpass.com/search/?page=1&q=&start_from=2020%2F01%2F01&start_to=2020%2F02%2F03&prefectures=fukuoka&selectItem=fukuoka\n",
      "【福岡】XRもくもく会 #2\n",
      "コーチングゲーム「Points of You」の体験会\n",
      "Laravel講習会 第四回\n",
      "福岡ブロックチェーン勉強会＆もくもく会#44\n",
      "【Kyash開発ノウハウ】WEB+DB PRESS Vol.114をみんなで読む会 ＃1\n",
      "赤煉瓦ライトニングトーク（Akarenga.LT） 第2回\n",
      "iOS、Androidアプリを作ろう【第四回 React native 勉強会】\n",
      "Fukuoka.rb #164\n",
      "機械学習講習会 第5回\n",
      "AWS re:Invent Recap with Serverless in Fusic\n",
      "https://connpass.com/search/?page=2&q=&start_from=2020%2F01%2F01&start_to=2020%2F02%2F03&prefectures=fukuoka&selectItem=fukuoka\n",
      "Hackerz Lab. 博多Vol23\n",
      "【博多】緊急開催！Lightningダッシュボードって意外とできる子なんやで\n",
      "【前回大好評】RPA育成講座！【Automation Anywhere編（全3回）】\n",
      "第40回CoderDojo久留米　メンター(スタッフ)・見学用\n",
      "第40回CoderDojo久留米\n",
      "第28回 CoderDojo 福岡\n",
      "MOCHI LIGHTNING by Hack'z ~LT初め~\n",
      "iCar Lab. vol.0.1\n",
      "新春LT\n",
      "iOS、Androidアプリを作ろう【第五回 React native 勉強会】\n",
      "https://connpass.com/search/?page=3&q=&start_from=2020%2F01%2F01&start_to=2020%2F02%2F03&prefectures=fukuoka&selectItem=fukuoka\n",
      "Fukuoka.rb #165\n",
      "北九州ITコミュニティ合同新年会2020\n",
      "Devoxx Belgium報告会 with Javaコミュ＠福岡\n",
      "【福岡】UIデザイントレースもくもく会@あつまるカフェ　TRACE WITH ME #4\n",
      "【福岡】XRミーティング 2020/1/15【AR/CR/MR/SR/VR】\n",
      "機械学習講習会 第6回\n",
      "IoT検定・IoTリテラシーWG【第六回】セキュリティ\n",
      "福岡Kaggleもくもく会 #27（再）\n",
      "Laravel講習会 第五回\n",
      "【福岡】テストティーパーティー おかわりっ\n"
     ]
    }
   ],
   "source": [
    "prefectures='fukuoka'\n",
    "\n",
    "for i in range(1,4):\n",
    "    url = f'https://connpass.com/search/?page={i}&q=&start_from=2020%2F01%2F01&start_to=2020%2F02%2F03&prefectures={prefectures}&selectItem={prefectures}'\n",
    "    print(url)\n",
    "    r = requests.get(url)\n",
    "    soup = BeautifulSoup(r.content, \"html.parser\")\n",
    "    results = soup.select('a.url.summary')\n",
    "    for event in results:\n",
    "        print(event.text)\n",
    "    time.sleep(1)\n",
    "        \n",
    "        \n",
    "        \n",
    "        "
   ]
  },
  {
   "cell_type": "code",
   "execution_count": 20,
   "metadata": {},
   "outputs": [
    {
     "data": {
      "text/plain": [
       "'AWS re:Invent Recap with Serverless in Fusic'"
      ]
     },
     "execution_count": 20,
     "metadata": {},
     "output_type": "execute_result"
    }
   ],
   "source": []
  },
  {
   "cell_type": "code",
   "execution_count": null,
   "metadata": {},
   "outputs": [],
   "source": []
  }
 ],
 "metadata": {
  "kernelspec": {
   "display_name": "Python 3",
   "language": "python",
   "name": "python3"
  },
  "language_info": {
   "codemirror_mode": {
    "name": "ipython",
    "version": 3
   },
   "file_extension": ".py",
   "mimetype": "text/x-python",
   "name": "python",
   "nbconvert_exporter": "python",
   "pygments_lexer": "ipython3",
   "version": "3.7.6"
  }
 },
 "nbformat": 4,
 "nbformat_minor": 4
}
